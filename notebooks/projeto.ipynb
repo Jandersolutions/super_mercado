{
 "cells": [
  {
   "cell_type": "markdown",
   "id": "d8b501de-035b-4c2d-9acb-889b11695c12",
   "metadata": {},
   "source": [
    "<img src=\"https://i.imgur.com/lQJojh4.png\"/>"
   ]
  },
  {
   "cell_type": "markdown",
   "id": "c31bbabe-4528-4ef5-a91b-ca025d9d10c3",
   "metadata": {},
   "source": [
    "## Análise de Eficiência e Satisfação do Atendimento ao Cliente em Supermercados  🛍️"
   ]
  },
  {
   "cell_type": "markdown",
   "id": "c4f42fbf-01d4-442f-98f6-2aaeda669471",
   "metadata": {},
   "source": [
    "### Neste projeto, a rede de supermercados busca aprimorar a qualidade do atendimento ao cliente em suas lojas, focando em entender as interações entre os clientes e os funcionários, bem como identificar áreas de melhoria para oferecer uma experiência excepcional aos clientes."
   ]
  },
  {
   "cell_type": "markdown",
   "id": "d510561b-213a-4d84-a655-78d3aa97b9c7",
   "metadata": {},
   "source": [
    "### Problema de Negócio:"
   ]
  },
  {
   "cell_type": "markdown",
   "id": "e8931781-34bf-4bda-8859-b1ca176df1c7",
   "metadata": {},
   "source": [
    "A rede de supermercados enfrenta o desafio de melhorar a experiência do cliente em suas lojas, incluindo a eficiência no atendimento, a satisfação do cliente e a identificação de gargalos que possam afetar negativamente a experiência."
   ]
  },
  {
   "cell_type": "markdown",
   "id": "71f9bb18-4150-4df0-acae-9b458531814c",
   "metadata": {},
   "source": [
    "### Visão de Negócio:"
   ]
  },
  {
   "cell_type": "markdown",
   "id": "263928c4-6219-4cad-8dba-e2aabe58dad7",
   "metadata": {},
   "source": [
    "- **Monitoramento do Atendimento ao Cliente**: A implementação de sensores estrategicamente posicionados nas lojas permitirá rastrear a movimentação dos clientes, medindo o tempo de espera nas filas e analisando o fluxo de tráfego.\n",
    "- **Feedback em Tempo Real**: Terminais de feedback estarão disponíveis em pontos-chave das lojas, permitindo que os clientes avaliem o atendimento que receberam instantaneamente, fornecendo informações valiosas em tempo real.\n",
    "- **Análise de Interações**: A análise detalhada das interações entre funcionários e clientes será conduzida, incluindo a qualidade das saudações, a assistência fornecida e a eficácia na resolução de dúvidas ou problemas.\n",
    "- **Avaliação do Tempo de Espera**: Será medido o tempo que os clientes passam nas filas de pagamento, permitindo uma avaliação objetiva se os tempos de espera estão dentro dos padrões aceitáveis.\n",
    "- **Análise de Satisfação por Setor**: A satisfação dos clientes será avaliada em diferentes setores da loja, como o atendimento no caixa, o setor de frutas e verduras e outros, para identificar pontos fortes e áreas que precisam de melhorias."
   ]
  },
  {
   "cell_type": "markdown",
   "id": "44db8016-558c-4361-bc83-a37b1d85761d",
   "metadata": {},
   "source": [
    "### Benefícios Esperados:"
   ]
  },
  {
   "cell_type": "markdown",
   "id": "20eb6728-bb06-4da5-ae96-111a11e64243",
   "metadata": {},
   "source": [
    "- **Melhoria da Experiência do Cliente**: Com a identificação de gargalos e áreas de espera longa, a rede de supermercados será capaz de melhorar a experiência geral do cliente, aumentando a satisfação.\n",
    "- **Treinamento de Funcionários**: As análises detalhadas das interações permitirão fornecer treinamento específico para os funcionários, aprimorando suas habilidades de atendimento.\n",
    "- **Redução de Tempo de Espera**: Com base na avaliação dos tempos de espera, será possível otimizar o planejamento de pessoal para reduzir filas e tempos de espera excessivos.\n",
    "- **Monitoramento da Satisfação ao Longo do Tempo**: Acompanhar as mudanças na satisfação do cliente ao longo do tempo permitirá avaliar a eficácia das melhorias implementadas e identificar tendências.\n",
    "- **Tomada de Decisões Orientada por Dados**: As decisões relacionadas ao atendimento ao cliente serão fundamentadas em dados concretos, proporcionando uma abordagem mais estratégica e eficaz."
   ]
  },
  {
   "cell_type": "markdown",
   "id": "dc5f0c19-a2a2-45f1-ab62-da606b9dfc5d",
   "metadata": {},
   "source": [
    "### Impacto:"
   ]
  },
  {
   "cell_type": "markdown",
   "id": "3d5f9ea4-daab-42a5-80a1-a91e0bd106bd",
   "metadata": {},
   "source": [
    "Este projeto permitirá que a rede de supermercados compreenda melhor as interações entre clientes e funcionários, identificando oportunidades de aprimoramento no atendimento. Aumentando a satisfação do cliente e melhorando a eficiência, a empresa poderá criar uma experiência mais positiva para seus clientes, promovendo a fidelização e o sucesso a longo prazo"
   ]
  },
  {
   "cell_type": "markdown",
   "id": "8d32e926-ce5b-4326-b52a-7a3b9f8866fc",
   "metadata": {},
   "source": [
    "### dicionário de dados: "
   ]
  },
  {
   "cell_type": "markdown",
   "id": "2fd58cb0-7bac-4137-9b6b-d29ee6f8cb45",
   "metadata": {},
   "source": [
    "| Coluna       | Tipo de Dado  | Descrição                                       |\n",
    "|--------------|---------------|-------------------------------------------------|\n",
    "| cpf          | String (CPF)  | CPF do cliente que realizou a compra            |\n",
    "| hora         | String        | Hora da venda no formato HH:MM                 |\n",
    "| data         | Data          | Data da venda no formato DD/MM/YYYY            |\n",
    "| produto      | String        | Nome do produto vendido                        |\n",
    "| preço        | Float         | Preço unitário do produto                      |\n",
    "| quantidade   | Inteiro       | Quantidade de unidades vendidas do produto     |\n",
    "| pdv          | Inteiro       | Ponto de venda (número)                        |\n",
    "| operadora    | String        | Nome da operadora de pagamento                 |\n",
    "| operação     | String        | Tipo de operação de pagamento (ex: pix)        |\n",
    "| total        | Float         | Valor total da venda                           |"
   ]
  },
  {
   "cell_type": "markdown",
   "id": "d70dd01d-4bd0-4df7-8532-d70ddcb952c3",
   "metadata": {},
   "source": [
    "### importando bibliotecas:"
   ]
  },
  {
   "cell_type": "code",
   "execution_count": 1,
   "id": "b155e0e2-80cc-4150-86ca-a1f877fa7e32",
   "metadata": {},
   "outputs": [],
   "source": [
    "import numpy as np\n",
    "import pandas as pd\n",
    "import matplotlib.pyplot as plt"
   ]
  },
  {
   "cell_type": "code",
   "execution_count": 15,
   "id": "3acfdf9c-3a60-4a58-8949-728f6aacbd5f",
   "metadata": {},
   "outputs": [],
   "source": [
    "# carregando os dados brutos\n",
    "df = pd.read_csv(\"../data/raw/venda_07-2023.csv\")"
   ]
  },
  {
   "cell_type": "code",
   "execution_count": 16,
   "id": "fff7f3c8-7603-42d6-aa27-2cbbd66ad952",
   "metadata": {},
   "outputs": [],
   "source": [
    "# salvando os dados brutos para trabalhar preservando os dados brutos\n",
    "df.to_csv('../data/interim/venda.csv', index=False)"
   ]
  },
  {
   "cell_type": "code",
   "execution_count": 17,
   "id": "be3eeae6-c53b-4dcd-8711-565fd4b00a3d",
   "metadata": {},
   "outputs": [],
   "source": [
    "# Carregando os dados de trabalho\n",
    "df = pd.read_csv(\"../data/interim/venda.csv\")"
   ]
  },
  {
   "cell_type": "code",
   "execution_count": null,
   "id": "40b157de-a616-4482-ab4d-4c0cb0afdf02",
   "metadata": {},
   "outputs": [],
   "source": []
  }
 ],
 "metadata": {
  "kernelspec": {
   "display_name": "Python 3 (ipykernel)",
   "language": "python",
   "name": "python3"
  },
  "language_info": {
   "codemirror_mode": {
    "name": "ipython",
    "version": 3
   },
   "file_extension": ".py",
   "mimetype": "text/x-python",
   "name": "python",
   "nbconvert_exporter": "python",
   "pygments_lexer": "ipython3",
   "version": "3.11.3"
  }
 },
 "nbformat": 4,
 "nbformat_minor": 5
}
